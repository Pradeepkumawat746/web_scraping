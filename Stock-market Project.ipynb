{
 "cells": [
  {
   "cell_type": "code",
   "execution_count": 11,
   "id": "c5e0ed15-3f2b-48ac-b263-eba12429dc9f",
   "metadata": {},
   "outputs": [],
   "source": [
    "import time \n",
    "import pandas as pd \n",
    "import numpy as np\n",
    "from selenium import webdriver\n",
    "from selenium.webdriver.common.by import By\n",
    "from selenium.webdriver.support.ui import  WebDriverWait \n",
    "from selenium.webdriver.support import expected_conditions as EC\n",
    "from selenium.webdriver.common.action_chains import ActionChains"
   ]
  },
  {
   "cell_type": "code",
   "execution_count": 3,
   "id": "480a7216-d668-48cc-9a02-90b6ba096265",
   "metadata": {},
   "outputs": [
    {
     "name": "stdout",
     "output_type": "stream",
     "text": [
      "The page \"Yahoo Finance - Stock Market Live, Quotes, Business & Finance News\" is fully loaded.\n",
      "\n",
      "The page \"Yahoo Finance - Stock Market Live, Quotes, Business & Finance News\" is fully loaded.\n",
      "\n",
      "The page \"Top Trending Stocks: US stocks with the highest interest today - Yahoo Finance\" is fully loaded.\n",
      "\n",
      "The \"next\" button is not clickable. We have navigated through all the pages.\n"
     ]
    }
   ],
   "source": [
    "driver = webdriver.Chrome()\n",
    "driver.maximize_window()\n",
    "\n",
    "# explicit wait\n",
    "wait = WebDriverWait(driver, 5)\n",
    "\n",
    "# function to check if webpage is fully loaded\n",
    "def wait_for_page_to_load(driver, wait):\n",
    "\tpage_title = driver.title\n",
    "\ttry:\n",
    "\t\twait.until(\n",
    "\t\t\tlambda d: d.execute_script(\"return document.readyState\") == \"complete\"\n",
    "\t\t)\n",
    "\texcept:\n",
    "\t\tprint(f\"The page \\\"{page_title}\\\" did not get fully loaded within the given duration.\\n\")\n",
    "\telse:\n",
    "\t\tprint(f\"The page \\\"{page_title}\\\" is fully loaded.\\n\")\n",
    "\n",
    "\n",
    "url = \"https://finance.yahoo.com/\"\n",
    "driver.get(url)\n",
    "wait_for_page_to_load(driver, wait)\n",
    "\n",
    "# hovering on markets menu\n",
    "actions=ActionChains(driver)\n",
    "market_menu=wait.until(\n",
    "    EC.presence_of_element_located((By.XPATH, '/html[1]/body[1]/div[2]/header[1]/div[1]/div[1]/div[1]/div[4]/div[1]/div[1]/ul[1]/li[3]/a[1]/span[1]'))\n",
    ")\n",
    "actions.move_to_element(market_menu).perform()\n",
    "\n",
    "# click on trending tickers\n",
    "trending_tickers=wait.until(\n",
    "   EC.element_to_be_clickable((By.XPATH,'/html[1]/body[1]/div[2]/header[1]/div[1]/div[1]/div[1]/div[4]/div[1]/div[1]/ul[1]/li[3]/div[1]/ul[1]/li[4]/a[1]/div[1]'))\n",
    ")\n",
    "trending_tickers.click()\n",
    "wait_for_page_to_load(driver, wait)\n",
    "\n",
    "# click on Most Active\n",
    "most_active = wait.until(\n",
    "\tEC.element_to_be_clickable((By.XPATH, '/html[1]/body[1]/div[2]/main[1]/section[1]/section[1]/section[1]/article[1]/section[1]/div[1]/nav[1]/ul[1]/li[1]/a[1]/span[1]'))\n",
    ")\n",
    "most_active.click()\n",
    "wait_for_page_to_load(driver, wait)\n",
    "data = []\n",
    "while True:\n",
    "\t# scraping data from the webpage\n",
    "\twait.until(\n",
    "\t\tEC.presence_of_element_located((By.TAG_NAME, \"table\"))\n",
    "\t)\n",
    "\trows = driver.find_elements(By.CSS_SELECTOR, \"table tbody tr\")\n",
    "\tfor row in rows:\n",
    "\t\tvalues = row.find_elements(By.TAG_NAME, \"td\")\n",
    "\t\tstock = {\n",
    "\t\t\t\"name\": values[1].text,\n",
    "\t\t\t\"symbol\": values[0].text,\n",
    "\t\t\t\"price\": values[3].text,\n",
    "\t\t\t\"change\": values[4].text,\n",
    "\t\t\t\"volume\": values[6].text,\n",
    "\t\t\t\"market_cap\": values[8].text,\n",
    "\t\t\t\"pe_ratio\": values[9].text,\n",
    "\t\t}\n",
    "\t\tdata.append(stock)\n",
    "\n",
    "\t# click next\n",
    "\ttry:\n",
    "\t\tnext_button = wait.until(\n",
    "\t\t\tEC.element_to_be_clickable((By.XPATH, '//*[@id=\"nimbus-app\"]/section/section/section/article/section[1]/div/div[3]/div[3]/button[3]'))\n",
    "\t\t)\n",
    "\texcept:\n",
    "\t\tprint(\"The \\\"next\\\" button is not clickable. We have navigated through all the pages.\")\n",
    "\t\tbreak\n",
    "\telse:\n",
    "\t\tnext_button.click()\n",
    "\t\ttime.sleep(1)\n",
    "driver.quit()\n",
    "\t\n",
    "   \n",
    "    \n",
    "    "
   ]
  },
  {
   "cell_type": "code",
   "execution_count": 22,
   "id": "51e6ea61-7f4e-41aa-b0c3-e0f11c155266",
   "metadata": {},
   "outputs": [],
   "source": [
    "stocks_df = (\n",
    "\tpd\n",
    "\t.DataFrame(data)\n",
    "\t.apply(lambda col: col.str.strip() if col.dtype == \"object\" else col)\n",
    "\t.assign(\n",
    "\t\tprice=lambda df_: pd.to_numeric(df_.price),\n",
    "\t\tchange=lambda df_: pd.to_numeric(df_.change.str.replace(\"+\", \"\")),\n",
    "\t\tvolume=lambda df_: pd.to_numeric(df_.volume.str.replace(\"M\", \"\")),\n",
    "\t\tmarket_cap=lambda df_: df_.market_cap.apply(lambda val: float(val.replace(\"B\", \"\")) if \"B\" in val else float(val.replace(\"T\", \"\")) * 1000),\n",
    "\t\tpe_ratio=lambda df_: (\n",
    "\t\t\tdf_\n",
    "\t\t\t.pe_ratio\n",
    "\t\t\t.replace(\"-\", np.nan)\n",
    "\t\t\t.str.replace(\",\", \"\")\n",
    "\t\t\t#.pipe(lambda col: pd.to_numeric(col))\n",
    "\t\t)\n",
    "\t)\n",
    "\t.rename(columns={\n",
    "\t\t\"price\": \"price_usd\",\n",
    "\t\t\"volume\": \"volume_M\",\n",
    "\t\t\"market_cap\": \"market_cap_B\"\n",
    "\t})\n",
    ")"
   ]
  },
  {
   "cell_type": "code",
   "execution_count": 24,
   "id": "9beebb52-2ad6-4242-8bad-2b3800c91095",
   "metadata": {},
   "outputs": [
    {
     "name": "stdout",
     "output_type": "stream",
     "text": [
      "<class 'pandas.core.frame.DataFrame'>\n",
      "RangeIndex: 274 entries, 0 to 273\n",
      "Data columns (total 7 columns):\n",
      " #   Column        Non-Null Count  Dtype  \n",
      "---  ------        --------------  -----  \n",
      " 0   name          274 non-null    object \n",
      " 1   symbol        274 non-null    object \n",
      " 2   price_usd     274 non-null    float64\n",
      " 3   change        274 non-null    float64\n",
      " 4   volume_M      274 non-null    float64\n",
      " 5   market_cap_B  274 non-null    float64\n",
      " 6   pe_ratio      274 non-null    object \n",
      "dtypes: float64(4), object(3)\n",
      "memory usage: 15.1+ KB\n"
     ]
    }
   ],
   "source": [
    "stocks_df.info()"
   ]
  },
  {
   "cell_type": "code",
   "execution_count": 14,
   "id": "8542ec5f-3f6f-4ff5-957a-ea8e1aea4bf4",
   "metadata": {},
   "outputs": [
    {
     "name": "stdout",
     "output_type": "stream",
     "text": [
      "274\n"
     ]
    }
   ],
   "source": [
    "print(len(data))"
   ]
  },
  {
   "cell_type": "code",
   "execution_count": null,
   "id": "79dcdd16-2a99-4f25-8538-66ce0ab58897",
   "metadata": {},
   "outputs": [],
   "source": []
  },
  {
   "cell_type": "code",
   "execution_count": null,
   "id": "e074ae6b-a60c-4ac5-bffa-148b97ffed5d",
   "metadata": {},
   "outputs": [],
   "source": []
  },
  {
   "cell_type": "code",
   "execution_count": null,
   "id": "0c1fbb91-83cc-4df2-b95e-ed8709a5f1ec",
   "metadata": {},
   "outputs": [],
   "source": []
  },
  {
   "cell_type": "code",
   "execution_count": null,
   "id": "e40520ac-d52c-460a-9e39-99a0e7538cf8",
   "metadata": {},
   "outputs": [],
   "source": []
  },
  {
   "cell_type": "code",
   "execution_count": null,
   "id": "b5207e82-45ca-4cc3-a4a0-b3fd21135d13",
   "metadata": {},
   "outputs": [],
   "source": []
  },
  {
   "cell_type": "code",
   "execution_count": null,
   "id": "61626465-48d7-4330-bc88-ad9cfa68c8c8",
   "metadata": {},
   "outputs": [],
   "source": []
  },
  {
   "cell_type": "code",
   "execution_count": null,
   "id": "a3379484-0635-42cf-9401-864d31595c26",
   "metadata": {},
   "outputs": [],
   "source": []
  },
  {
   "cell_type": "code",
   "execution_count": null,
   "id": "a5625b7b-6c73-45ee-abb2-8d1ad2a48367",
   "metadata": {},
   "outputs": [],
   "source": []
  },
  {
   "cell_type": "code",
   "execution_count": null,
   "id": "18c9bb36-8517-4e5e-8896-3ae9212aa697",
   "metadata": {},
   "outputs": [],
   "source": []
  },
  {
   "cell_type": "code",
   "execution_count": null,
   "id": "79b59999-9768-4ce2-bd16-94bb1b7550ac",
   "metadata": {},
   "outputs": [],
   "source": []
  }
 ],
 "metadata": {
  "kernelspec": {
   "display_name": "web_scraping",
   "language": "python",
   "name": "web_scraping"
  },
  "language_info": {
   "codemirror_mode": {
    "name": "ipython",
    "version": 3
   },
   "file_extension": ".py",
   "mimetype": "text/x-python",
   "name": "python",
   "nbconvert_exporter": "python",
   "pygments_lexer": "ipython3",
   "version": "3.12.4"
  }
 },
 "nbformat": 4,
 "nbformat_minor": 5
}
